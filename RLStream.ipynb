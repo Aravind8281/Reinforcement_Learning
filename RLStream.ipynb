{
  "nbformat": 4,
  "nbformat_minor": 0,
  "metadata": {
    "colab": {
      "provenance": [],
      "authorship_tag": "ABX9TyMp5Vq3G4WU32Z7AuLFWPlM",
      "include_colab_link": true
    },
    "kernelspec": {
      "name": "python3",
      "display_name": "Python 3"
    },
    "language_info": {
      "name": "python"
    }
  },
  "cells": [
    {
      "cell_type": "markdown",
      "metadata": {
        "id": "view-in-github",
        "colab_type": "text"
      },
      "source": [
        "<a href=\"https://colab.research.google.com/github/Aravind8281/Reinforcement_Learning/blob/main/RLStream.ipynb\" target=\"_parent\"><img src=\"https://colab.research.google.com/assets/colab-badge.svg\" alt=\"Open In Colab\"/></a>"
      ]
    },
    {
      "cell_type": "code",
      "source": [
        "!pip install stable-baselines3[extra]\n"
      ],
      "metadata": {
        "id": "D647TmqVNlDN"
      },
      "execution_count": null,
      "outputs": []
    },
    {
      "cell_type": "code",
      "source": [
        "import gym\n",
        "from stable_baselines3 import PPO\n",
        "env = gym.make('CartPole-v1')\n",
        "model = PPO(\"MlpPolicy\", env, verbose=1)\n",
        "model = PPO.load(\"ppo_cartpole\")\n",
        "num_episodes = 1000\n",
        "total_reward = 0\n",
        "for _ in range(num_episodes):\n",
        "    obs = env.reset()\n",
        "    episode_reward = 0\n",
        "    while True:\n",
        "        action, _ = model.predict(obs)\n",
        "        obs, reward, done, _ = env.step(action)\n",
        "        episode_reward += reward\n",
        "        if done:\n",
        "            break\n",
        "    total_reward += episode_reward\n",
        "average_reward = total_reward / num_episodes\n",
        "print(f\"Average Reward over {num_episodes} episodes: {average_reward}\")\n",
        "env.close()\n"
      ],
      "metadata": {
        "colab": {
          "base_uri": "https://localhost:8080/"
        },
        "id": "y6anv6NMdTmm",
        "outputId": "35bbef6a-e45a-4be7-dab6-b26b5cd5d4d4"
      },
      "execution_count": 15,
      "outputs": [
        {
          "output_type": "stream",
          "name": "stdout",
          "text": [
            "Using cpu device\n",
            "Wrapping the env with a `Monitor` wrapper\n",
            "Wrapping the env in a DummyVecEnv.\n",
            "Average Reward over 1000 episodes: 22.668\n"
          ]
        }
      ]
    },
    {
      "cell_type": "code",
      "source": [],
      "metadata": {
        "id": "qRrt5R2pdyhr"
      },
      "execution_count": null,
      "outputs": []
    }
  ]
}